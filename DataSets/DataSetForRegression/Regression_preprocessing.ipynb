{
 "cells": [
  {
   "cell_type": "code",
   "execution_count": 2,
   "metadata": {},
   "outputs": [],
   "source": [
    "import pandas as pd"
   ]
  },
  {
   "cell_type": "code",
   "execution_count": 3,
   "metadata": {},
   "outputs": [
    {
     "data": {
      "text/html": [
       "<div>\n",
       "<style scoped>\n",
       "    .dataframe tbody tr th:only-of-type {\n",
       "        vertical-align: middle;\n",
       "    }\n",
       "\n",
       "    .dataframe tbody tr th {\n",
       "        vertical-align: top;\n",
       "    }\n",
       "\n",
       "    .dataframe thead th {\n",
       "        text-align: right;\n",
       "    }\n",
       "</style>\n",
       "<table border=\"1\" class=\"dataframe\">\n",
       "  <thead>\n",
       "    <tr style=\"text-align: right;\">\n",
       "      <th></th>\n",
       "      <th>Posted On</th>\n",
       "      <th>BHK</th>\n",
       "      <th>Rent</th>\n",
       "      <th>Size</th>\n",
       "      <th>Floor</th>\n",
       "      <th>Area Type</th>\n",
       "      <th>Area Locality</th>\n",
       "      <th>City</th>\n",
       "      <th>Furnishing Status</th>\n",
       "      <th>Tenant Preferred</th>\n",
       "      <th>Bathroom</th>\n",
       "      <th>Point of Contact</th>\n",
       "    </tr>\n",
       "  </thead>\n",
       "  <tbody>\n",
       "    <tr>\n",
       "      <th>0</th>\n",
       "      <td>2022-05-18</td>\n",
       "      <td>2.0</td>\n",
       "      <td>10000.0</td>\n",
       "      <td>1100</td>\n",
       "      <td>Ground out of 2</td>\n",
       "      <td>Super Area</td>\n",
       "      <td>Bandel</td>\n",
       "      <td>Kolkata</td>\n",
       "      <td>Unfurnished</td>\n",
       "      <td>Bachelors/Family</td>\n",
       "      <td>2</td>\n",
       "      <td>Contact Owner</td>\n",
       "    </tr>\n",
       "    <tr>\n",
       "      <th>1</th>\n",
       "      <td>2022-05-13</td>\n",
       "      <td>2.0</td>\n",
       "      <td>20000.0</td>\n",
       "      <td>800</td>\n",
       "      <td>1 out of 3</td>\n",
       "      <td>Super Area</td>\n",
       "      <td>Phool Bagan, Kankurgachi</td>\n",
       "      <td>Kolkata</td>\n",
       "      <td>Semi-Furnished</td>\n",
       "      <td>Bachelors/Family</td>\n",
       "      <td>1</td>\n",
       "      <td>Contact Owner</td>\n",
       "    </tr>\n",
       "    <tr>\n",
       "      <th>2</th>\n",
       "      <td>2022-05-16</td>\n",
       "      <td>2.0</td>\n",
       "      <td>NaN</td>\n",
       "      <td>1000</td>\n",
       "      <td>1 out of 3</td>\n",
       "      <td>Super Area</td>\n",
       "      <td>Salt Lake City Sector 2</td>\n",
       "      <td>Kolkata</td>\n",
       "      <td>Semi-Furnished</td>\n",
       "      <td>Bachelors/Family</td>\n",
       "      <td>1</td>\n",
       "      <td>Contact Owner</td>\n",
       "    </tr>\n",
       "    <tr>\n",
       "      <th>3</th>\n",
       "      <td>2022-07-04</td>\n",
       "      <td>2.0</td>\n",
       "      <td>10000.0</td>\n",
       "      <td>800</td>\n",
       "      <td>1 out of 2</td>\n",
       "      <td>Super Area</td>\n",
       "      <td>Dumdum Park</td>\n",
       "      <td>Kolkata</td>\n",
       "      <td>Unfurnished</td>\n",
       "      <td>Bachelors/Family</td>\n",
       "      <td>1</td>\n",
       "      <td>Contact Owner</td>\n",
       "    </tr>\n",
       "    <tr>\n",
       "      <th>4</th>\n",
       "      <td>2022-05-09</td>\n",
       "      <td>2.0</td>\n",
       "      <td>7500.0</td>\n",
       "      <td>850</td>\n",
       "      <td>1 out of 2</td>\n",
       "      <td>Carpet Area</td>\n",
       "      <td>South Dum Dum</td>\n",
       "      <td>Kolkata</td>\n",
       "      <td>Unfurnished</td>\n",
       "      <td>Bachelors</td>\n",
       "      <td>1</td>\n",
       "      <td>Contact Owner</td>\n",
       "    </tr>\n",
       "  </tbody>\n",
       "</table>\n",
       "</div>"
      ],
      "text/plain": [
       "    Posted On  BHK     Rent  Size            Floor    Area Type  \\\n",
       "0  2022-05-18  2.0  10000.0  1100  Ground out of 2   Super Area   \n",
       "1  2022-05-13  2.0  20000.0   800       1 out of 3   Super Area   \n",
       "2  2022-05-16  2.0      NaN  1000       1 out of 3   Super Area   \n",
       "3  2022-07-04  2.0  10000.0   800       1 out of 2   Super Area   \n",
       "4  2022-05-09  2.0   7500.0   850       1 out of 2  Carpet Area   \n",
       "\n",
       "              Area Locality     City Furnishing Status  Tenant Preferred  \\\n",
       "0                    Bandel  Kolkata       Unfurnished  Bachelors/Family   \n",
       "1  Phool Bagan, Kankurgachi  Kolkata    Semi-Furnished  Bachelors/Family   \n",
       "2   Salt Lake City Sector 2  Kolkata    Semi-Furnished  Bachelors/Family   \n",
       "3               Dumdum Park  Kolkata       Unfurnished  Bachelors/Family   \n",
       "4             South Dum Dum  Kolkata       Unfurnished         Bachelors   \n",
       "\n",
       "   Bathroom Point of Contact  \n",
       "0         2    Contact Owner  \n",
       "1         1    Contact Owner  \n",
       "2         1    Contact Owner  \n",
       "3         1    Contact Owner  \n",
       "4         1    Contact Owner  "
      ]
     },
     "execution_count": 3,
     "metadata": {},
     "output_type": "execute_result"
    }
   ],
   "source": [
    "data = pd.read_csv(\"/home/m7md/Desktop/Data_Mining_project/DataSets/DataSetForRegression/House_Rent_Dataset_with_Missing_Values.csv\")\n",
    "data.head()"
   ]
  },
  {
   "cell_type": "code",
   "execution_count": 4,
   "metadata": {},
   "outputs": [
    {
     "data": {
      "text/plain": [
       "948"
      ]
     },
     "execution_count": 4,
     "metadata": {},
     "output_type": "execute_result"
    }
   ],
   "source": [
    "null_count = data.isnull().sum().sum()\n",
    "null_count"
   ]
  },
  {
   "cell_type": "code",
   "execution_count": 5,
   "metadata": {},
   "outputs": [
    {
     "data": {
      "text/plain": [
       "(4746, 12)"
      ]
     },
     "execution_count": 5,
     "metadata": {},
     "output_type": "execute_result"
    }
   ],
   "source": [
    "data.shape"
   ]
  },
  {
   "cell_type": "code",
   "execution_count": 6,
   "metadata": {},
   "outputs": [],
   "source": [
    "data = pd.read_csv(\"/home/m7md/Desktop/Data_Mining_project/DataSets/DataSetForRegression/House_Rent_Dataset_with_Missing_Values.csv\")"
   ]
  },
  {
   "cell_type": "code",
   "execution_count": 7,
   "metadata": {},
   "outputs": [],
   "source": [
    "from sklearn.preprocessing import MinMaxScaler\n",
    "\n",
    "# Step 1: Handle Missing Values\n",
    "# Checking the percentage of missing values in each column\n",
    "missing_values = data.isnull().mean() \n",
    "\n",
    "# Handling missing values in BHK and Rent (simple imputation for now)\n",
    "# Assuming mean imputation for numerical missing values\n",
    "data['BHK'] = data['BHK'].fillna(data['BHK'].mean())\n",
    "data['Rent'] = data['Rent'].fillna(data['Rent'].mean())"
   ]
  },
  {
   "cell_type": "code",
   "execution_count": 8,
   "metadata": {},
   "outputs": [
    {
     "data": {
      "text/plain": [
       "0"
      ]
     },
     "execution_count": 8,
     "metadata": {},
     "output_type": "execute_result"
    }
   ],
   "source": [
    "null_count = data.isnull().sum().sum()\n",
    "null_count"
   ]
  },
  {
   "cell_type": "code",
   "execution_count": 9,
   "metadata": {},
   "outputs": [
    {
     "name": "stderr",
     "output_type": "stream",
     "text": [
      "/tmp/ipykernel_64495/893045906.py:6: FutureWarning: A value is trying to be set on a copy of a DataFrame or Series through chained assignment using an inplace method.\n",
      "The behavior will change in pandas 3.0. This inplace method will never work because the intermediate object on which we are setting values always behaves as a copy.\n",
      "\n",
      "For example, when doing 'df[col].method(value, inplace=True)', try using 'df.method({col: value}, inplace=True)' or df[col] = df[col].method(value) instead, to perform the operation inplace on the original object.\n",
      "\n",
      "\n",
      "  floor_split[0].replace({'Ground': 0, 'Upper': None}, inplace=True)\n",
      "/tmp/ipykernel_64495/893045906.py:7: FutureWarning: A value is trying to be set on a copy of a DataFrame or Series through chained assignment using an inplace method.\n",
      "The behavior will change in pandas 3.0. This inplace method will never work because the intermediate object on which we are setting values always behaves as a copy.\n",
      "\n",
      "For example, when doing 'df[col].method(value, inplace=True)', try using 'df.method({col: value}, inplace=True)' or df[col] = df[col].method(value) instead, to perform the operation inplace on the original object.\n",
      "\n",
      "\n",
      "  floor_split[1].replace({'Unknown': None}, inplace=True)\n"
     ]
    }
   ],
   "source": [
    "# Step 2: Process the \"Floor\" column\n",
    "# Extract the current floor and total floors as separate numeric columns\n",
    "floor_split = data['Floor'].str.extract(r'(\\d+|Ground|Upper) out of (\\d+|Unknown)')\n",
    "\n",
    "# Replace textual entries with numeric equivalents\n",
    "floor_split[0].replace({'Ground': 0, 'Upper': None}, inplace=True)\n",
    "floor_split[1].replace({'Unknown': None}, inplace=True)\n",
    "\n",
    "# Convert the split data to numeric types\n",
    "data['Current Floor'] = pd.to_numeric(floor_split[0], errors='coerce')\n",
    "data['Total Floors'] = pd.to_numeric(floor_split[1], errors='coerce')\n",
    "\n",
    "# Drop the original \"Floor\" column\n",
    "data.drop(columns=['Floor'], inplace=True)"
   ]
  },
  {
   "cell_type": "code",
   "execution_count": 10,
   "metadata": {},
   "outputs": [
    {
     "name": "stdout",
     "output_type": "stream",
     "text": [
      "Index(['Posted On', 'BHK', 'Rent', 'Size', 'Area Type', 'Area Locality',\n",
      "       'City', 'Furnishing Status', 'Tenant Preferred', 'Bathroom',\n",
      "       'Point of Contact', 'Current Floor', 'Total Floors'],\n",
      "      dtype='object')\n"
     ]
    }
   ],
   "source": [
    "print(data.columns)"
   ]
  },
  {
   "cell_type": "code",
   "execution_count": 11,
   "metadata": {},
   "outputs": [
    {
     "data": {
      "text/plain": [
       "(4746, 13)"
      ]
     },
     "execution_count": 11,
     "metadata": {},
     "output_type": "execute_result"
    }
   ],
   "source": [
    "data.shape"
   ]
  },
  {
   "cell_type": "code",
   "execution_count": 12,
   "metadata": {},
   "outputs": [
    {
     "name": "stdout",
     "output_type": "stream",
     "text": [
      "<class 'pandas.core.frame.DataFrame'>\n",
      "RangeIndex: 4746 entries, 0 to 4745\n",
      "Data columns (total 21 columns):\n",
      " #   Column                             Non-Null Count  Dtype  \n",
      "---  ------                             --------------  -----  \n",
      " 0   Posted On                          4746 non-null   object \n",
      " 1   BHK                                4746 non-null   float64\n",
      " 2   Rent                               4746 non-null   float64\n",
      " 3   Size                               4746 non-null   int64  \n",
      " 4   Area Locality                      4746 non-null   object \n",
      " 5   Bathroom                           4746 non-null   int64  \n",
      " 6   Current Floor                      4708 non-null   float64\n",
      " 7   Total Floors                       4708 non-null   float64\n",
      " 8   Area Type_Carpet Area              4746 non-null   bool   \n",
      " 9   Area Type_Super Area               4746 non-null   bool   \n",
      " 10  City_Chennai                       4746 non-null   bool   \n",
      " 11  City_Delhi                         4746 non-null   bool   \n",
      " 12  City_Hyderabad                     4746 non-null   bool   \n",
      " 13  City_Kolkata                       4746 non-null   bool   \n",
      " 14  City_Mumbai                        4746 non-null   bool   \n",
      " 15  Furnishing Status_Semi-Furnished   4746 non-null   bool   \n",
      " 16  Furnishing Status_Unfurnished      4746 non-null   bool   \n",
      " 17  Tenant Preferred_Bachelors/Family  4746 non-null   bool   \n",
      " 18  Tenant Preferred_Family            4746 non-null   bool   \n",
      " 19  Point of Contact_Contact Builder   4746 non-null   bool   \n",
      " 20  Point of Contact_Contact Owner     4746 non-null   bool   \n",
      "dtypes: bool(13), float64(4), int64(2), object(2)\n",
      "memory usage: 357.0+ KB\n"
     ]
    },
    {
     "data": {
      "text/plain": [
       "(None,\n",
       "     Posted On  BHK          Rent  Size             Area Locality  Bathroom  \\\n",
       " 0  2022-05-18  2.0  10000.000000  1100                    Bandel         2   \n",
       " 1  2022-05-13  2.0  20000.000000   800  Phool Bagan, Kankurgachi         1   \n",
       " 2  2022-05-16  2.0  34970.323736  1000   Salt Lake City Sector 2         1   \n",
       " 3  2022-07-04  2.0  10000.000000   800               Dumdum Park         1   \n",
       " 4  2022-05-09  2.0   7500.000000   850             South Dum Dum         1   \n",
       " \n",
       "    Current Floor  Total Floors  Area Type_Carpet Area  Area Type_Super Area  \\\n",
       " 0            0.0           2.0                  False                  True   \n",
       " 1            1.0           3.0                  False                  True   \n",
       " 2            1.0           3.0                  False                  True   \n",
       " 3            1.0           2.0                  False                  True   \n",
       " 4            1.0           2.0                   True                 False   \n",
       " \n",
       "    ...  City_Delhi  City_Hyderabad  City_Kolkata  City_Mumbai  \\\n",
       " 0  ...       False           False          True        False   \n",
       " 1  ...       False           False          True        False   \n",
       " 2  ...       False           False          True        False   \n",
       " 3  ...       False           False          True        False   \n",
       " 4  ...       False           False          True        False   \n",
       " \n",
       "    Furnishing Status_Semi-Furnished  Furnishing Status_Unfurnished  \\\n",
       " 0                             False                           True   \n",
       " 1                              True                          False   \n",
       " 2                              True                          False   \n",
       " 3                             False                           True   \n",
       " 4                             False                           True   \n",
       " \n",
       "    Tenant Preferred_Bachelors/Family  Tenant Preferred_Family  \\\n",
       " 0                               True                    False   \n",
       " 1                               True                    False   \n",
       " 2                               True                    False   \n",
       " 3                               True                    False   \n",
       " 4                              False                    False   \n",
       " \n",
       "    Point of Contact_Contact Builder  Point of Contact_Contact Owner  \n",
       " 0                             False                            True  \n",
       " 1                             False                            True  \n",
       " 2                             False                            True  \n",
       " 3                             False                            True  \n",
       " 4                             False                            True  \n",
       " \n",
       " [5 rows x 21 columns])"
      ]
     },
     "execution_count": 12,
     "metadata": {},
     "output_type": "execute_result"
    }
   ],
   "source": [
    "# Step 3: Encode categorical variables\n",
    "# One-hot encode categorical columns\n",
    "categorical_columns = ['Area Type', 'City', 'Furnishing Status', 'Tenant Preferred', 'Point of Contact']\n",
    "data = pd.get_dummies(data, columns=categorical_columns, drop_first=True)\n",
    "\n",
    "# Display the processed dataset info and preview\n",
    "data.info(), data.head()"
   ]
  },
  {
   "cell_type": "code",
   "execution_count": 13,
   "metadata": {},
   "outputs": [],
   "source": [
    "# Step 4: Address missing values in \"Current Floor\" and \"Total Floors\"\n",
    "# Impute with median since floors are ordinal/numeric\n",
    "data['Current Floor'] = data['Current Floor'].fillna(data['Current Floor'].median())\n",
    "data['Total Floors'] = data['Total Floors'].fillna(data['Total Floors'].median())"
   ]
  },
  {
   "cell_type": "code",
   "execution_count": 14,
   "metadata": {},
   "outputs": [],
   "source": [
    "# Step 5: Normalize numerical columns\n",
    "# Identify numerical columns for normalization\n",
    "numerical_columns = ['BHK', 'Rent', 'Size', 'Bathroom', 'Current Floor', 'Total Floors']"
   ]
  },
  {
   "cell_type": "code",
   "execution_count": 15,
   "metadata": {},
   "outputs": [],
   "source": [
    "# Apply Min-Max Scaling\n",
    "scaler = MinMaxScaler()\n",
    "data[numerical_columns] = scaler.fit_transform(data[numerical_columns])"
   ]
  },
  {
   "cell_type": "code",
   "execution_count": 16,
   "metadata": {},
   "outputs": [],
   "source": [
    "# Convert \"Posted On\" to a more usable format (if needed for time-series analysis)\n",
    "data['Posted On'] = pd.to_datetime(data['Posted On'])"
   ]
  },
  {
   "cell_type": "code",
   "execution_count": 17,
   "metadata": {},
   "outputs": [],
   "source": [
    "# Dropping \"Area Locality\" for simplicity since it has too many unique values for encoding\n",
    "data.drop(columns=['Area Locality'], inplace=True)"
   ]
  },
  {
   "cell_type": "code",
   "execution_count": 18,
   "metadata": {},
   "outputs": [
    {
     "name": "stdout",
     "output_type": "stream",
     "text": [
      "<class 'pandas.core.frame.DataFrame'>\n",
      "RangeIndex: 4746 entries, 0 to 4745\n",
      "Data columns (total 20 columns):\n",
      " #   Column                             Non-Null Count  Dtype         \n",
      "---  ------                             --------------  -----         \n",
      " 0   Posted On                          4746 non-null   datetime64[ns]\n",
      " 1   BHK                                4746 non-null   float64       \n",
      " 2   Rent                               4746 non-null   float64       \n",
      " 3   Size                               4746 non-null   float64       \n",
      " 4   Bathroom                           4746 non-null   float64       \n",
      " 5   Current Floor                      4746 non-null   float64       \n",
      " 6   Total Floors                       4746 non-null   float64       \n",
      " 7   Area Type_Carpet Area              4746 non-null   bool          \n",
      " 8   Area Type_Super Area               4746 non-null   bool          \n",
      " 9   City_Chennai                       4746 non-null   bool          \n",
      " 10  City_Delhi                         4746 non-null   bool          \n",
      " 11  City_Hyderabad                     4746 non-null   bool          \n",
      " 12  City_Kolkata                       4746 non-null   bool          \n",
      " 13  City_Mumbai                        4746 non-null   bool          \n",
      " 14  Furnishing Status_Semi-Furnished   4746 non-null   bool          \n",
      " 15  Furnishing Status_Unfurnished      4746 non-null   bool          \n",
      " 16  Tenant Preferred_Bachelors/Family  4746 non-null   bool          \n",
      " 17  Tenant Preferred_Family            4746 non-null   bool          \n",
      " 18  Point of Contact_Contact Builder   4746 non-null   bool          \n",
      " 19  Point of Contact_Contact Owner     4746 non-null   bool          \n",
      "dtypes: bool(13), datetime64[ns](1), float64(6)\n",
      "memory usage: 319.9 KB\n"
     ]
    },
    {
     "data": {
      "text/plain": [
       "(None,\n",
       "    Posted On  BHK      Rent      Size  Bathroom  Current Floor  Total Floors  \\\n",
       " 0 2022-05-18  0.2  0.002515  0.136421  0.111111       0.000000      0.011364   \n",
       " 1 2022-05-13  0.2  0.005373  0.098874  0.000000       0.013158      0.022727   \n",
       " 2 2022-05-16  0.2  0.009652  0.123905  0.000000       0.013158      0.022727   \n",
       " 3 2022-07-04  0.2  0.002515  0.098874  0.000000       0.013158      0.011364   \n",
       " 4 2022-05-09  0.2  0.001801  0.105131  0.000000       0.013158      0.011364   \n",
       " \n",
       "    Area Type_Carpet Area  Area Type_Super Area  City_Chennai  City_Delhi  \\\n",
       " 0                  False                  True         False       False   \n",
       " 1                  False                  True         False       False   \n",
       " 2                  False                  True         False       False   \n",
       " 3                  False                  True         False       False   \n",
       " 4                   True                 False         False       False   \n",
       " \n",
       "    City_Hyderabad  City_Kolkata  City_Mumbai  \\\n",
       " 0           False          True        False   \n",
       " 1           False          True        False   \n",
       " 2           False          True        False   \n",
       " 3           False          True        False   \n",
       " 4           False          True        False   \n",
       " \n",
       "    Furnishing Status_Semi-Furnished  Furnishing Status_Unfurnished  \\\n",
       " 0                             False                           True   \n",
       " 1                              True                          False   \n",
       " 2                              True                          False   \n",
       " 3                             False                           True   \n",
       " 4                             False                           True   \n",
       " \n",
       "    Tenant Preferred_Bachelors/Family  Tenant Preferred_Family  \\\n",
       " 0                               True                    False   \n",
       " 1                               True                    False   \n",
       " 2                               True                    False   \n",
       " 3                               True                    False   \n",
       " 4                              False                    False   \n",
       " \n",
       "    Point of Contact_Contact Builder  Point of Contact_Contact Owner  \n",
       " 0                             False                            True  \n",
       " 1                             False                            True  \n",
       " 2                             False                            True  \n",
       " 3                             False                            True  \n",
       " 4                             False                            True  )"
      ]
     },
     "execution_count": 18,
     "metadata": {},
     "output_type": "execute_result"
    }
   ],
   "source": [
    "# Final dataset info and preview\n",
    "data.info(), data.head()"
   ]
  },
  {
   "cell_type": "code",
   "execution_count": 19,
   "metadata": {},
   "outputs": [],
   "source": [
    "data.to_csv(\"/home/m7md/Desktop/Data_Mining_project/DataSets/DataSetForRegression/output/Cleaned_House_Rent_Dataset_with_Missing_Values.csv\")"
   ]
  },
  {
   "cell_type": "code",
   "execution_count": null,
   "metadata": {},
   "outputs": [],
   "source": []
  }
 ],
 "metadata": {
  "kernelspec": {
   "display_name": "base",
   "language": "python",
   "name": "python3"
  },
  "language_info": {
   "codemirror_mode": {
    "name": "ipython",
    "version": 3
   },
   "file_extension": ".py",
   "mimetype": "text/x-python",
   "name": "python",
   "nbconvert_exporter": "python",
   "pygments_lexer": "ipython3",
   "version": "3.12.3"
  }
 },
 "nbformat": 4,
 "nbformat_minor": 2
}
